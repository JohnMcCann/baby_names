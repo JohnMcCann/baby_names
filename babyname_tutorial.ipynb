{
 "cells": [
  {
   "cell_type": "markdown",
   "metadata": {},
   "source": [
    "# Baby Names"
   ]
  },
  {
   "cell_type": "code",
   "execution_count": null,
   "metadata": {},
   "outputs": [],
   "source": [
    "import pandas as pd\n",
    "import matplotlib.pyplot as plt\n",
    "\n",
    "from ssas import ssa_data\n",
    "from plots import history_plot"
   ]
  },
  {
   "cell_type": "markdown",
   "metadata": {},
   "source": [
    "## Fetch baby name data from US SSA\n",
    "\n",
    "First time executing `ssa_data()` will download the babyname data from the ssa.gov website. Data is saved to a directory called \"data\" in the baby_names repo. Future executions of `ssa_data()` will load data from the data directory rather than downloading from the ssa.gov website. The `ssa_data` object contains pandas dataframes of the baby name information. Let's go ahead and download/load that data."
   ]
  },
  {
   "cell_type": "code",
   "execution_count": null,
   "metadata": {},
   "outputs": [],
   "source": [
    "name_data = ssa_data()"
   ]
  },
  {
   "cell_type": "markdown",
   "metadata": {},
   "source": [
    "## Examining the data\n",
    "\n",
    "Now that we have the data in the ssa_data object, we can access either the national or state level data. Let's look at the national data for name data after the year 2000."
   ]
  },
  {
   "cell_type": "code",
   "execution_count": null,
   "metadata": {},
   "outputs": [],
   "source": [
    "df = name_data.national\n",
    "df[df['year']>'2000']"
   ]
  },
  {
   "cell_type": "markdown",
   "metadata": {},
   "source": [
    "Another example for the state level data is to look at the data for everyone named John in Wyoming (you'll need to know your state abbreviations)."
   ]
  },
  {
   "cell_type": "code",
   "execution_count": null,
   "metadata": {},
   "outputs": [],
   "source": [
    "df = name_data.state\n",
    "df[(df['name']=='John') & (df['state']=='WY')]"
   ]
  },
  {
   "cell_type": "markdown",
   "metadata": {},
   "source": [
    "## Plots\n",
    "\n",
    "Now we can generate interesting plots with the data. Let's look at the trends in the top 10 female names since the year 2000. We will use the `history_plot()` function to make nice looking plots. You need to give the function an ax to plot on, the names you are interested in plotting, the genders of those names, the dataframe to plot from, and which column of the dataframe we are plotting (keyword argument: `plot_type`, defaults to frequency). We can also choose to highlight certains names in rank plots if it seems too busy (uncomment the keyword)."
   ]
  },
  {
   "cell_type": "code",
   "execution_count": null,
   "metadata": {},
   "outputs": [],
   "source": [
    "top10_F = name_data.national.loc[(name_data.national['rank']<=10) &\n",
    "                                 (name_data.national['gender']=='F') &\n",
    "                                 (name_data.national['year']>='2000')]\n",
    "names = pd.unique(top10_F['name'])\n",
    "genders = ['F']*len(names)\n",
    "\n",
    "fig, ax = plt.subplots()\n",
    "history_plot(ax, names, genders, top10_F, plot_type='rank', legend=True,\n",
    "#              highlight=['Emma', 'Mia'],\n",
    "             log_scale=False, ms=10, lw=2)\n",
    "ax.set_title('Top 10 Female Names since 2000')\n",
    "fig.savefig('Female_top10_2000.png', fmt='png', transparent=False,\n",
    "            facecolor=fig.get_facecolor(), edgecolor='none', bbox_inches='tight')"
   ]
  },
  {
   "cell_type": "markdown",
   "metadata": {},
   "source": [
    "Another plot is the name fraction of a name as a function of time. A lower number means the name is less popular."
   ]
  },
  {
   "cell_type": "code",
   "execution_count": null,
   "metadata": {},
   "outputs": [],
   "source": [
    "names = ['Bob', 'Tom', 'Dick', 'Matt']\n",
    "genders = ['M']*len(names)\n",
    "\n",
    "fig, ax = plt.subplots()\n",
    "history_plot(ax, names, genders, name_data.national, plot_type='f')"
   ]
  },
  {
   "cell_type": "markdown",
   "metadata": {},
   "source": [
    "It is also possible to plot the total occurances of that name by using `plot_type=n`."
   ]
  },
  {
   "cell_type": "code",
   "execution_count": null,
   "metadata": {},
   "outputs": [],
   "source": [
    "names = ['Bob', 'Tom', 'Dick', 'Matt']\n",
    "genders = ['M']*len(names)\n",
    "\n",
    "fig, ax = plt.subplots()\n",
    "history_plot(ax, names, genders, name_data.national, plot_type='n')"
   ]
  }
 ],
 "metadata": {
  "kernelspec": {
   "display_name": "Python 3",
   "language": "python",
   "name": "python3"
  },
  "language_info": {
   "codemirror_mode": {
    "name": "ipython",
    "version": 3
   },
   "file_extension": ".py",
   "mimetype": "text/x-python",
   "name": "python",
   "nbconvert_exporter": "python",
   "pygments_lexer": "ipython3",
   "version": "3.7.7"
  }
 },
 "nbformat": 4,
 "nbformat_minor": 4
}
